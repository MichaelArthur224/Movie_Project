{
 "cells": [
  {
   "cell_type": "code",
   "execution_count": 1,
   "id": "b82deb11",
   "metadata": {},
   "outputs": [],
   "source": [
    "import pandas as pd\n",
    "import numpy as np"
   ]
  },
  {
   "cell_type": "markdown",
   "id": "f2abd63d",
   "metadata": {},
   "source": [
    "# Exploratory Data Analysis"
   ]
  },
  {
   "cell_type": "code",
   "execution_count": 8,
   "id": "5023b942",
   "metadata": {},
   "outputs": [],
   "source": [
    "df_2000 = pd.read_csv('Data/final_tmdb_data_2000.csv.gz')\n",
    "df_2001 = pd.read_csv('Data/final_tmdb_data_2001.csv.gz')"
   ]
  },
  {
   "cell_type": "code",
   "execution_count": 11,
   "id": "f69d602b",
   "metadata": {},
   "outputs": [],
   "source": [
    "df = pd.concat((df_2000, df_2001), axis = 0)"
   ]
  },
  {
   "cell_type": "markdown",
   "id": "a31dedd9",
   "metadata": {},
   "source": [
    "- How many movies had at least some valid financial information (values > 0 for budget OR revenue)?"
   ]
  },
  {
   "cell_type": "code",
   "execution_count": 13,
   "id": "0f8f0e10",
   "metadata": {},
   "outputs": [],
   "source": [
    "bud = df['budget'] > 0 \n",
    "rev = df['revenue'] > 0\n",
    "df = df.loc[bud | rev]"
   ]
  },
  {
   "cell_type": "code",
   "execution_count": 14,
   "id": "070611a6",
   "metadata": {},
   "outputs": [],
   "source": [
    "df.dropna(subset=['budget'], inplace=True)\n",
    "df.dropna(subset=['revenue'], inplace=True)"
   ]
  },
  {
   "cell_type": "code",
   "execution_count": 15,
   "id": "7e248365",
   "metadata": {},
   "outputs": [
    {
     "name": "stdout",
     "output_type": "stream",
     "text": [
      "<class 'pandas.core.frame.DataFrame'>\n",
      "Int64Index: 627 entries, 1 to 1275\n",
      "Data columns (total 26 columns):\n",
      " #   Column                 Non-Null Count  Dtype  \n",
      "---  ------                 --------------  -----  \n",
      " 0   imdb_id                627 non-null    object \n",
      " 1   adult                  627 non-null    float64\n",
      " 2   backdrop_path          531 non-null    object \n",
      " 3   belongs_to_collection  105 non-null    object \n",
      " 4   budget                 627 non-null    float64\n",
      " 5   genres                 627 non-null    object \n",
      " 6   homepage               77 non-null     object \n",
      " 7   id                     627 non-null    float64\n",
      " 8   original_language      627 non-null    object \n",
      " 9   original_title         627 non-null    object \n",
      " 10  overview               625 non-null    object \n",
      " 11  popularity             627 non-null    float64\n",
      " 12  poster_path            606 non-null    object \n",
      " 13  production_companies   627 non-null    object \n",
      " 14  production_countries   627 non-null    object \n",
      " 15  release_date           627 non-null    object \n",
      " 16  revenue                627 non-null    float64\n",
      " 17  runtime                627 non-null    float64\n",
      " 18  spoken_languages       627 non-null    object \n",
      " 19  status                 627 non-null    object \n",
      " 20  tagline                488 non-null    object \n",
      " 21  title                  627 non-null    object \n",
      " 22  video                  627 non-null    float64\n",
      " 23  vote_average           627 non-null    float64\n",
      " 24  vote_count             627 non-null    float64\n",
      " 25  certification          426 non-null    object \n",
      "dtypes: float64(9), object(17)\n",
      "memory usage: 132.3+ KB\n"
     ]
    }
   ],
   "source": [
    "df.info()"
   ]
  },
  {
   "cell_type": "markdown",
   "id": "cd39c494",
   "metadata": {},
   "source": [
    " 627 values for revenue were not null, Budget also had 627 non null values."
   ]
  },
  {
   "cell_type": "markdown",
   "id": "58102482",
   "metadata": {},
   "source": [
    "- How many movies are there in each of the certification categories (G/PG/PG-13/R)?"
   ]
  },
  {
   "cell_type": "code",
   "execution_count": 16,
   "id": "27c41d8b",
   "metadata": {},
   "outputs": [
    {
     "data": {
      "text/plain": [
       "R        229\n",
       "PG-13    131\n",
       "PG        35\n",
       "NR        17\n",
       "G         14\n",
       "Name: certification, dtype: int64"
      ]
     },
     "execution_count": 16,
     "metadata": {},
     "output_type": "execute_result"
    }
   ],
   "source": [
    "df['certification'].value_counts()"
   ]
  },
  {
   "cell_type": "markdown",
   "id": "06ec46ca",
   "metadata": {},
   "source": [
    "R: 229, PG-13: 131, PG: 35, NR: 17, G: 14"
   ]
  },
  {
   "cell_type": "markdown",
   "id": "05141e4a",
   "metadata": {},
   "source": [
    "- What is the average revenue per certification category?"
   ]
  },
  {
   "cell_type": "code",
   "execution_count": 17,
   "id": "2f0b13b9",
   "metadata": {},
   "outputs": [
    {
     "data": {
      "text/html": [
       "<div>\n",
       "<style scoped>\n",
       "    .dataframe tbody tr th:only-of-type {\n",
       "        vertical-align: middle;\n",
       "    }\n",
       "\n",
       "    .dataframe tbody tr th {\n",
       "        vertical-align: top;\n",
       "    }\n",
       "\n",
       "    .dataframe thead th {\n",
       "        text-align: right;\n",
       "    }\n",
       "</style>\n",
       "<table border=\"1\" class=\"dataframe\">\n",
       "  <thead>\n",
       "    <tr style=\"text-align: right;\">\n",
       "      <th></th>\n",
       "      <th>adult</th>\n",
       "      <th>budget</th>\n",
       "      <th>id</th>\n",
       "      <th>popularity</th>\n",
       "      <th>revenue</th>\n",
       "      <th>runtime</th>\n",
       "      <th>video</th>\n",
       "      <th>vote_average</th>\n",
       "      <th>vote_count</th>\n",
       "    </tr>\n",
       "    <tr>\n",
       "      <th>certification</th>\n",
       "      <th></th>\n",
       "      <th></th>\n",
       "      <th></th>\n",
       "      <th></th>\n",
       "      <th></th>\n",
       "      <th></th>\n",
       "      <th></th>\n",
       "      <th></th>\n",
       "      <th></th>\n",
       "    </tr>\n",
       "  </thead>\n",
       "  <tbody>\n",
       "    <tr>\n",
       "      <th>G</th>\n",
       "      <td>0.0</td>\n",
       "      <td>4.085714e+07</td>\n",
       "      <td>17450.500000</td>\n",
       "      <td>26.335286</td>\n",
       "      <td>1.237463e+08</td>\n",
       "      <td>85.928571</td>\n",
       "      <td>0.0</td>\n",
       "      <td>6.443857</td>\n",
       "      <td>2496.785714</td>\n",
       "    </tr>\n",
       "    <tr>\n",
       "      <th>NR</th>\n",
       "      <td>0.0</td>\n",
       "      <td>6.302358e+06</td>\n",
       "      <td>73899.705882</td>\n",
       "      <td>9.900118</td>\n",
       "      <td>8.887611e+06</td>\n",
       "      <td>99.705882</td>\n",
       "      <td>0.0</td>\n",
       "      <td>5.972471</td>\n",
       "      <td>458.058824</td>\n",
       "    </tr>\n",
       "    <tr>\n",
       "      <th>PG</th>\n",
       "      <td>0.0</td>\n",
       "      <td>4.496429e+07</td>\n",
       "      <td>13296.685714</td>\n",
       "      <td>28.747657</td>\n",
       "      <td>1.126496e+08</td>\n",
       "      <td>105.885714</td>\n",
       "      <td>0.0</td>\n",
       "      <td>6.172257</td>\n",
       "      <td>2553.257143</td>\n",
       "    </tr>\n",
       "    <tr>\n",
       "      <th>PG-13</th>\n",
       "      <td>0.0</td>\n",
       "      <td>4.315388e+07</td>\n",
       "      <td>15623.366412</td>\n",
       "      <td>15.043687</td>\n",
       "      <td>9.926299e+07</td>\n",
       "      <td>108.908397</td>\n",
       "      <td>0.0</td>\n",
       "      <td>6.091344</td>\n",
       "      <td>1771.206107</td>\n",
       "    </tr>\n",
       "    <tr>\n",
       "      <th>R</th>\n",
       "      <td>0.0</td>\n",
       "      <td>1.974674e+07</td>\n",
       "      <td>25745.519651</td>\n",
       "      <td>12.132900</td>\n",
       "      <td>3.321119e+07</td>\n",
       "      <td>105.746725</td>\n",
       "      <td>0.0</td>\n",
       "      <td>5.950821</td>\n",
       "      <td>978.196507</td>\n",
       "    </tr>\n",
       "  </tbody>\n",
       "</table>\n",
       "</div>"
      ],
      "text/plain": [
       "               adult        budget            id  popularity       revenue  \\\n",
       "certification                                                                \n",
       "G                0.0  4.085714e+07  17450.500000   26.335286  1.237463e+08   \n",
       "NR               0.0  6.302358e+06  73899.705882    9.900118  8.887611e+06   \n",
       "PG               0.0  4.496429e+07  13296.685714   28.747657  1.126496e+08   \n",
       "PG-13            0.0  4.315388e+07  15623.366412   15.043687  9.926299e+07   \n",
       "R                0.0  1.974674e+07  25745.519651   12.132900  3.321119e+07   \n",
       "\n",
       "                  runtime  video  vote_average   vote_count  \n",
       "certification                                                \n",
       "G               85.928571    0.0      6.443857  2496.785714  \n",
       "NR              99.705882    0.0      5.972471   458.058824  \n",
       "PG             105.885714    0.0      6.172257  2553.257143  \n",
       "PG-13          108.908397    0.0      6.091344  1771.206107  \n",
       "R              105.746725    0.0      5.950821   978.196507  "
      ]
     },
     "execution_count": 17,
     "metadata": {},
     "output_type": "execute_result"
    }
   ],
   "source": [
    "df.groupby(['certification']).mean('revenue')"
   ]
  },
  {
   "cell_type": "markdown",
   "id": "ebd0a0f2",
   "metadata": {},
   "source": [
    "- What is the average budget per certification category?"
   ]
  },
  {
   "cell_type": "code",
   "execution_count": 18,
   "id": "91888df2",
   "metadata": {},
   "outputs": [
    {
     "data": {
      "text/html": [
       "<div>\n",
       "<style scoped>\n",
       "    .dataframe tbody tr th:only-of-type {\n",
       "        vertical-align: middle;\n",
       "    }\n",
       "\n",
       "    .dataframe tbody tr th {\n",
       "        vertical-align: top;\n",
       "    }\n",
       "\n",
       "    .dataframe thead th {\n",
       "        text-align: right;\n",
       "    }\n",
       "</style>\n",
       "<table border=\"1\" class=\"dataframe\">\n",
       "  <thead>\n",
       "    <tr style=\"text-align: right;\">\n",
       "      <th></th>\n",
       "      <th>adult</th>\n",
       "      <th>budget</th>\n",
       "      <th>id</th>\n",
       "      <th>popularity</th>\n",
       "      <th>revenue</th>\n",
       "      <th>runtime</th>\n",
       "      <th>video</th>\n",
       "      <th>vote_average</th>\n",
       "      <th>vote_count</th>\n",
       "    </tr>\n",
       "    <tr>\n",
       "      <th>certification</th>\n",
       "      <th></th>\n",
       "      <th></th>\n",
       "      <th></th>\n",
       "      <th></th>\n",
       "      <th></th>\n",
       "      <th></th>\n",
       "      <th></th>\n",
       "      <th></th>\n",
       "      <th></th>\n",
       "    </tr>\n",
       "  </thead>\n",
       "  <tbody>\n",
       "    <tr>\n",
       "      <th>G</th>\n",
       "      <td>0.0</td>\n",
       "      <td>4.085714e+07</td>\n",
       "      <td>17450.500000</td>\n",
       "      <td>26.335286</td>\n",
       "      <td>1.237463e+08</td>\n",
       "      <td>85.928571</td>\n",
       "      <td>0.0</td>\n",
       "      <td>6.443857</td>\n",
       "      <td>2496.785714</td>\n",
       "    </tr>\n",
       "    <tr>\n",
       "      <th>NR</th>\n",
       "      <td>0.0</td>\n",
       "      <td>6.302358e+06</td>\n",
       "      <td>73899.705882</td>\n",
       "      <td>9.900118</td>\n",
       "      <td>8.887611e+06</td>\n",
       "      <td>99.705882</td>\n",
       "      <td>0.0</td>\n",
       "      <td>5.972471</td>\n",
       "      <td>458.058824</td>\n",
       "    </tr>\n",
       "    <tr>\n",
       "      <th>PG</th>\n",
       "      <td>0.0</td>\n",
       "      <td>4.496429e+07</td>\n",
       "      <td>13296.685714</td>\n",
       "      <td>28.747657</td>\n",
       "      <td>1.126496e+08</td>\n",
       "      <td>105.885714</td>\n",
       "      <td>0.0</td>\n",
       "      <td>6.172257</td>\n",
       "      <td>2553.257143</td>\n",
       "    </tr>\n",
       "    <tr>\n",
       "      <th>PG-13</th>\n",
       "      <td>0.0</td>\n",
       "      <td>4.315388e+07</td>\n",
       "      <td>15623.366412</td>\n",
       "      <td>15.043687</td>\n",
       "      <td>9.926299e+07</td>\n",
       "      <td>108.908397</td>\n",
       "      <td>0.0</td>\n",
       "      <td>6.091344</td>\n",
       "      <td>1771.206107</td>\n",
       "    </tr>\n",
       "    <tr>\n",
       "      <th>R</th>\n",
       "      <td>0.0</td>\n",
       "      <td>1.974674e+07</td>\n",
       "      <td>25745.519651</td>\n",
       "      <td>12.132900</td>\n",
       "      <td>3.321119e+07</td>\n",
       "      <td>105.746725</td>\n",
       "      <td>0.0</td>\n",
       "      <td>5.950821</td>\n",
       "      <td>978.196507</td>\n",
       "    </tr>\n",
       "  </tbody>\n",
       "</table>\n",
       "</div>"
      ],
      "text/plain": [
       "               adult        budget            id  popularity       revenue  \\\n",
       "certification                                                                \n",
       "G                0.0  4.085714e+07  17450.500000   26.335286  1.237463e+08   \n",
       "NR               0.0  6.302358e+06  73899.705882    9.900118  8.887611e+06   \n",
       "PG               0.0  4.496429e+07  13296.685714   28.747657  1.126496e+08   \n",
       "PG-13            0.0  4.315388e+07  15623.366412   15.043687  9.926299e+07   \n",
       "R                0.0  1.974674e+07  25745.519651   12.132900  3.321119e+07   \n",
       "\n",
       "                  runtime  video  vote_average   vote_count  \n",
       "certification                                                \n",
       "G               85.928571    0.0      6.443857  2496.785714  \n",
       "NR              99.705882    0.0      5.972471   458.058824  \n",
       "PG             105.885714    0.0      6.172257  2553.257143  \n",
       "PG-13          108.908397    0.0      6.091344  1771.206107  \n",
       "R              105.746725    0.0      5.950821   978.196507  "
      ]
     },
     "execution_count": 18,
     "metadata": {},
     "output_type": "execute_result"
    }
   ],
   "source": [
    "df.groupby(['certification']).mean('budget')"
   ]
  },
  {
   "cell_type": "code",
   "execution_count": 19,
   "id": "624989fb",
   "metadata": {},
   "outputs": [],
   "source": [
    "df.to_csv(\"Data/tmdb_results_combined.csv.gz\",compression='gzip',index=False)"
   ]
  },
  {
   "cell_type": "code",
   "execution_count": null,
   "id": "c8a5870e",
   "metadata": {},
   "outputs": [],
   "source": []
  }
 ],
 "metadata": {
  "kernelspec": {
   "display_name": "Python (dojo-env)",
   "language": "python",
   "name": "dojo-env"
  },
  "language_info": {
   "codemirror_mode": {
    "name": "ipython",
    "version": 3
   },
   "file_extension": ".py",
   "mimetype": "text/x-python",
   "name": "python",
   "nbconvert_exporter": "python",
   "pygments_lexer": "ipython3",
   "version": "3.9.15"
  }
 },
 "nbformat": 4,
 "nbformat_minor": 5
}
